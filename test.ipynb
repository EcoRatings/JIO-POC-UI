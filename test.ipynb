{
 "cells": [
  {
   "cell_type": "code",
   "execution_count": 6,
   "metadata": {},
   "outputs": [
    {
     "name": "stderr",
     "output_type": "stream",
     "text": [
      "<>:65: SyntaxWarning: invalid escape sequence '\\E'\n",
      "<>:65: SyntaxWarning: invalid escape sequence '\\E'\n",
      "C:\\Users\\nemi-\\AppData\\Local\\Temp\\ipykernel_10616\\1795120573.py:65: SyntaxWarning: invalid escape sequence '\\E'\n",
      "  wb.save(\"D:\\EcoRatings\\testing\\jio-poc-ui-test\\sample\\sample_excel_file.xlsx\")\n",
      "C:\\Users\\nemi-\\AppData\\Local\\Temp\\ipykernel_10616\\1795120573.py:65: SyntaxWarning: invalid escape sequence '\\E'\n",
      "  wb.save(\"D:\\EcoRatings\\testing\\jio-poc-ui-test\\sample\\sample_excel_file.xlsx\")\n"
     ]
    },
    {
     "ename": "OSError",
     "evalue": "[Errno 22] Invalid argument: 'D:\\\\EcoRatings\\testing\\\\jio-poc-ui-test\\\\sample\\\\sample_excel_file.xlsx'",
     "output_type": "error",
     "traceback": [
      "\u001b[1;31m---------------------------------------------------------------------------\u001b[0m",
      "\u001b[1;31mOSError\u001b[0m                                   Traceback (most recent call last)",
      "Cell \u001b[1;32mIn[6], line 65\u001b[0m\n\u001b[0;32m     62\u001b[0m data_validation_2\u001b[38;5;241m.\u001b[39madd(\u001b[38;5;124m\"\u001b[39m\u001b[38;5;124mA2:A1048576\u001b[39m\u001b[38;5;124m\"\u001b[39m)\n\u001b[0;32m     64\u001b[0m \u001b[38;5;66;03m# Save the workbook to a new file\u001b[39;00m\n\u001b[1;32m---> 65\u001b[0m \u001b[43mwb\u001b[49m\u001b[38;5;241;43m.\u001b[39;49m\u001b[43msave\u001b[49m\u001b[43m(\u001b[49m\u001b[38;5;124;43m\"\u001b[39;49m\u001b[38;5;124;43mD:\u001b[39;49m\u001b[38;5;124;43m\\\u001b[39;49m\u001b[38;5;124;43mEcoRatings\u001b[39;49m\u001b[38;5;130;43;01m\\t\u001b[39;49;00m\u001b[38;5;124;43mesting\u001b[39;49m\u001b[38;5;124;43m\\\u001b[39;49m\u001b[38;5;124;43mjio-poc-ui-test\u001b[39;49m\u001b[38;5;124;43m\\\u001b[39;49m\u001b[38;5;124;43msample\u001b[39;49m\u001b[38;5;124;43m\\\u001b[39;49m\u001b[38;5;124;43msample_excel_file.xlsx\u001b[39;49m\u001b[38;5;124;43m\"\u001b[39;49m\u001b[43m)\u001b[49m\n",
      "File \u001b[1;32md:\\EcoRatings\\testing\\jio-poc-ui-test\\myenv\\Lib\\site-packages\\openpyxl\\workbook\\workbook.py:386\u001b[0m, in \u001b[0;36mWorkbook.save\u001b[1;34m(self, filename)\u001b[0m\n\u001b[0;32m    384\u001b[0m \u001b[38;5;28;01mif\u001b[39;00m \u001b[38;5;28mself\u001b[39m\u001b[38;5;241m.\u001b[39mwrite_only \u001b[38;5;129;01mand\u001b[39;00m \u001b[38;5;129;01mnot\u001b[39;00m \u001b[38;5;28mself\u001b[39m\u001b[38;5;241m.\u001b[39mworksheets:\n\u001b[0;32m    385\u001b[0m     \u001b[38;5;28mself\u001b[39m\u001b[38;5;241m.\u001b[39mcreate_sheet()\n\u001b[1;32m--> 386\u001b[0m \u001b[43msave_workbook\u001b[49m\u001b[43m(\u001b[49m\u001b[38;5;28;43mself\u001b[39;49m\u001b[43m,\u001b[49m\u001b[43m \u001b[49m\u001b[43mfilename\u001b[49m\u001b[43m)\u001b[49m\n",
      "File \u001b[1;32md:\\EcoRatings\\testing\\jio-poc-ui-test\\myenv\\Lib\\site-packages\\openpyxl\\writer\\excel.py:291\u001b[0m, in \u001b[0;36msave_workbook\u001b[1;34m(workbook, filename)\u001b[0m\n\u001b[0;32m    279\u001b[0m \u001b[38;5;28;01mdef\u001b[39;00m \u001b[38;5;21msave_workbook\u001b[39m(workbook, filename):\n\u001b[0;32m    280\u001b[0m \u001b[38;5;250m    \u001b[39m\u001b[38;5;124;03m\"\"\"Save the given workbook on the filesystem under the name filename.\u001b[39;00m\n\u001b[0;32m    281\u001b[0m \n\u001b[0;32m    282\u001b[0m \u001b[38;5;124;03m    :param workbook: the workbook to save\u001b[39;00m\n\u001b[1;32m   (...)\u001b[0m\n\u001b[0;32m    289\u001b[0m \n\u001b[0;32m    290\u001b[0m \u001b[38;5;124;03m    \"\"\"\u001b[39;00m\n\u001b[1;32m--> 291\u001b[0m     archive \u001b[38;5;241m=\u001b[39m \u001b[43mZipFile\u001b[49m\u001b[43m(\u001b[49m\u001b[43mfilename\u001b[49m\u001b[43m,\u001b[49m\u001b[43m \u001b[49m\u001b[38;5;124;43m'\u001b[39;49m\u001b[38;5;124;43mw\u001b[39;49m\u001b[38;5;124;43m'\u001b[39;49m\u001b[43m,\u001b[49m\u001b[43m \u001b[49m\u001b[43mZIP_DEFLATED\u001b[49m\u001b[43m,\u001b[49m\u001b[43m \u001b[49m\u001b[43mallowZip64\u001b[49m\u001b[38;5;241;43m=\u001b[39;49m\u001b[38;5;28;43;01mTrue\u001b[39;49;00m\u001b[43m)\u001b[49m\n\u001b[0;32m    292\u001b[0m     workbook\u001b[38;5;241m.\u001b[39mproperties\u001b[38;5;241m.\u001b[39mmodified \u001b[38;5;241m=\u001b[39m datetime\u001b[38;5;241m.\u001b[39mdatetime\u001b[38;5;241m.\u001b[39mnow(tz\u001b[38;5;241m=\u001b[39mdatetime\u001b[38;5;241m.\u001b[39mtimezone\u001b[38;5;241m.\u001b[39mutc)\u001b[38;5;241m.\u001b[39mreplace(tzinfo\u001b[38;5;241m=\u001b[39m\u001b[38;5;28;01mNone\u001b[39;00m)\n\u001b[0;32m    293\u001b[0m     writer \u001b[38;5;241m=\u001b[39m ExcelWriter(workbook, archive)\n",
      "File \u001b[1;32m~\\miniconda3\\Lib\\zipfile\\__init__.py:1331\u001b[0m, in \u001b[0;36mZipFile.__init__\u001b[1;34m(self, file, mode, compression, allowZip64, compresslevel, strict_timestamps, metadata_encoding)\u001b[0m\n\u001b[0;32m   1329\u001b[0m \u001b[38;5;28;01mwhile\u001b[39;00m \u001b[38;5;28;01mTrue\u001b[39;00m:\n\u001b[0;32m   1330\u001b[0m     \u001b[38;5;28;01mtry\u001b[39;00m:\n\u001b[1;32m-> 1331\u001b[0m         \u001b[38;5;28mself\u001b[39m\u001b[38;5;241m.\u001b[39mfp \u001b[38;5;241m=\u001b[39m \u001b[43mio\u001b[49m\u001b[38;5;241;43m.\u001b[39;49m\u001b[43mopen\u001b[49m\u001b[43m(\u001b[49m\u001b[43mfile\u001b[49m\u001b[43m,\u001b[49m\u001b[43m \u001b[49m\u001b[43mfilemode\u001b[49m\u001b[43m)\u001b[49m\n\u001b[0;32m   1332\u001b[0m     \u001b[38;5;28;01mexcept\u001b[39;00m \u001b[38;5;167;01mOSError\u001b[39;00m:\n\u001b[0;32m   1333\u001b[0m         \u001b[38;5;28;01mif\u001b[39;00m filemode \u001b[38;5;129;01min\u001b[39;00m modeDict:\n",
      "\u001b[1;31mOSError\u001b[0m: [Errno 22] Invalid argument: 'D:\\\\EcoRatings\\testing\\\\jio-poc-ui-test\\\\sample\\\\sample_excel_file.xlsx'"
     ]
    }
   ],
   "source": [
    "from openpyxl import Workbook\n",
    "from openpyxl.worksheet.datavalidation import DataValidation\n",
    "\n",
    "# Create a new workbook\n",
    "wb = Workbook()\n",
    "\n",
    "# Create Sheet 1 and add locked value in A1\n",
    "ws1 = wb.active\n",
    "ws1.title = \"Data Point\"\n",
    "ws1[\"A1\"] = \"Data Point\"\n",
    "\n",
    "# List of data points for dropdown in Sheet 1\n",
    "data_points = [\n",
    "    \"Scope 1 Emissions (tCO2e)\",\n",
    "    \"Scope 2 Emissions (tCO2e)\",\n",
    "    \"Energy Consumption (in GJ)\",\n",
    "    \"Percentage of Renewable Energy Consumption (%)\",\n",
    "    \"Water Consumption (m3)\",\n",
    "    \"Total Hazardous Waste Generated (tonnes)\",\n",
    "    \"Non-Hazardous Waste Generated (tonnes)\",\n",
    "    \"LTIFR (Lost Time Injury Frequency Rate)\",\n",
    "    \"Fatalities\",\n",
    "    \"Has the Company set Carbon Targets? (Yes/No)\",\n",
    "    \"If Yes, are they Science Based? (Yes/No)\",\n",
    "    \"Has the company set Net Zero Target? (Yes/No)\",\n",
    "    \"If Yes, Net Zero Target Year?\",\n",
    "    \"Has the company set Energy Targets? (Yes/No)\",\n",
    "    \"Has the company set Water Targets? (Yes/No)\",\n",
    "    \"Has the company set Waste Targets? (Yes/No)\",\n",
    "    \"Does the company have an Environmental Policy? (Yes/No)\",\n",
    "    \"Does the company have a Health & Safety Policy? (Yes/No)\",\n",
    "    \"Does the Company have Anti-Bribery/Corruption Policy? (Yes/No)\",\n",
    "    \"Is the Company ISO 14001 certified? (Yes/No)\",\n",
    "    \"Is the Company ISO 45001/OHSAS 18001 certified? (Yes/No)\",\n",
    "    \"Is the Company a signatory to UN Global Compact? (Yes/No)\",\n",
    "    \"Period of Reporting\",\n",
    "    \"Revenue\",\n",
    "    \"Revenue Currency\"\n",
    "]\n",
    "\n",
    "# Add dropdown list for rest of the A column in Sheet 1\n",
    "data_validation_1 = DataValidation(type=\"list\", formula1=f'\"{','.join(data_points)}\"', allow_blank=True)\n",
    "ws1.add_data_validation(data_validation_1)\n",
    "data_validation_1.add(\"A2:A1048576\")\n",
    "\n",
    "# Create Sheet 2 and add locked value in A1\n",
    "ws2 = wb.create_sheet(title=\"Company Name\")\n",
    "ws2[\"A1\"] = \"Company Name\"\n",
    "\n",
    "# List of company names for dropdown in Sheet 2\n",
    "company_names = [\n",
    "    \"ciena\",\n",
    "    \"ericsson\",\n",
    "    \"nokia\",\n",
    "    \"mahindra_and_mahindra\",\n",
    "    \"cisco\"\n",
    "]\n",
    "\n",
    "# Add dropdown list for rest of the A column in Sheet 2\n",
    "data_validation_2 = DataValidation(type=\"list\", formula1=f'\"{','.join(company_names)}\"', allow_blank=True)\n",
    "ws2.add_data_validation(data_validation_2)\n",
    "data_validation_2.add(\"A2:A1048576\")\n",
    "\n",
    "# Save the workbook to a new file\n",
    "output_file_path = \"/sample/sample_excel_file.xlsx\"\n",
    "wb.save(output_file_path)"
   ]
  },
  {
   "cell_type": "code",
   "execution_count": null,
   "metadata": {},
   "outputs": [],
   "source": []
  }
 ],
 "metadata": {
  "kernelspec": {
   "display_name": "myenv",
   "language": "python",
   "name": "python3"
  },
  "language_info": {
   "codemirror_mode": {
    "name": "ipython",
    "version": 3
   },
   "file_extension": ".py",
   "mimetype": "text/x-python",
   "name": "python",
   "nbconvert_exporter": "python",
   "pygments_lexer": "ipython3",
   "version": "3.12.4"
  }
 },
 "nbformat": 4,
 "nbformat_minor": 2
}
